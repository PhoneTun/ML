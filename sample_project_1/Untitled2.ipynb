{
 "cells": [
  {
   "cell_type": "code",
   "execution_count": 1,
   "id": "3d9ee7f8",
   "metadata": {},
   "outputs": [],
   "source": [
    "import numpy as np"
   ]
  },
  {
   "cell_type": "code",
   "execution_count": 9,
   "id": "44de983d",
   "metadata": {},
   "outputs": [
    {
     "data": {
      "text/plain": [
       "array([1, 2, 3])"
      ]
     },
     "execution_count": 9,
     "metadata": {},
     "output_type": "execute_result"
    }
   ],
   "source": [
    "a1=np.array([1,2,3])\n",
    "a1"
   ]
  },
  {
   "cell_type": "code",
   "execution_count": 10,
   "id": "f0026e2e",
   "metadata": {},
   "outputs": [
    {
     "data": {
      "text/plain": [
       "numpy.ndarray"
      ]
     },
     "execution_count": 10,
     "metadata": {},
     "output_type": "execute_result"
    }
   ],
   "source": [
    "type(a1)"
   ]
  },
  {
   "cell_type": "code",
   "execution_count": 13,
   "id": "da24198b",
   "metadata": {},
   "outputs": [],
   "source": [
    "a2=np.array([[1,2,3],[4,5,6]])\n",
    "a3=np.array([[1, 2, 3],[4,5,6], [8,9,10]])"
   ]
  },
  {
   "cell_type": "code",
   "execution_count": 16,
   "id": "4f8e5726",
   "metadata": {},
   "outputs": [
    {
     "data": {
      "text/plain": [
       "numpy.ndarray"
      ]
     },
     "execution_count": 16,
     "metadata": {},
     "output_type": "execute_result"
    }
   ],
   "source": [
    "a2\n"
   ]
  },
  {
   "cell_type": "code",
   "execution_count": 17,
   "id": "6ab380bc",
   "metadata": {},
   "outputs": [
    {
     "data": {
      "text/plain": [
       "array([[ 1,  2,  3],\n",
       "       [ 4,  5,  6],\n",
       "       [ 8,  9, 10]])"
      ]
     },
     "execution_count": 17,
     "metadata": {},
     "output_type": "execute_result"
    }
   ],
   "source": [
    "a3"
   ]
  },
  {
   "cell_type": "code",
   "execution_count": 18,
   "id": "319efd38",
   "metadata": {},
   "outputs": [
    {
     "data": {
      "text/plain": [
       "(3,)"
      ]
     },
     "execution_count": 18,
     "metadata": {},
     "output_type": "execute_result"
    }
   ],
   "source": [
    "a1.shape"
   ]
  },
  {
   "cell_type": "code",
   "execution_count": 19,
   "id": "e75340bf",
   "metadata": {},
   "outputs": [
    {
     "data": {
      "text/plain": [
       "3"
      ]
     },
     "execution_count": 19,
     "metadata": {},
     "output_type": "execute_result"
    }
   ],
   "source": [
    "a1.size\n"
   ]
  },
  {
   "cell_type": "code",
   "execution_count": 20,
   "id": "90855863",
   "metadata": {},
   "outputs": [
    {
     "data": {
      "text/plain": [
       "numpy.ndarray"
      ]
     },
     "execution_count": 20,
     "metadata": {},
     "output_type": "execute_result"
    }
   ],
   "source": [
    "type(a1)"
   ]
  },
  {
   "cell_type": "code",
   "execution_count": 22,
   "id": "36716a88",
   "metadata": {},
   "outputs": [],
   "source": [
    "import pandas as pd\n"
   ]
  },
  {
   "cell_type": "code",
   "execution_count": 23,
   "id": "b36ddd6e",
   "metadata": {},
   "outputs": [],
   "source": [
    "df=pd.DataFrame(a2)"
   ]
  },
  {
   "cell_type": "code",
   "execution_count": 24,
   "id": "77fc79c6",
   "metadata": {},
   "outputs": [
    {
     "data": {
      "text/html": [
       "<div>\n",
       "<style scoped>\n",
       "    .dataframe tbody tr th:only-of-type {\n",
       "        vertical-align: middle;\n",
       "    }\n",
       "\n",
       "    .dataframe tbody tr th {\n",
       "        vertical-align: top;\n",
       "    }\n",
       "\n",
       "    .dataframe thead th {\n",
       "        text-align: right;\n",
       "    }\n",
       "</style>\n",
       "<table border=\"1\" class=\"dataframe\">\n",
       "  <thead>\n",
       "    <tr style=\"text-align: right;\">\n",
       "      <th></th>\n",
       "      <th>0</th>\n",
       "      <th>1</th>\n",
       "      <th>2</th>\n",
       "    </tr>\n",
       "  </thead>\n",
       "  <tbody>\n",
       "    <tr>\n",
       "      <th>0</th>\n",
       "      <td>1</td>\n",
       "      <td>2</td>\n",
       "      <td>3</td>\n",
       "    </tr>\n",
       "    <tr>\n",
       "      <th>1</th>\n",
       "      <td>4</td>\n",
       "      <td>5</td>\n",
       "      <td>6</td>\n",
       "    </tr>\n",
       "  </tbody>\n",
       "</table>\n",
       "</div>"
      ],
      "text/plain": [
       "   0  1  2\n",
       "0  1  2  3\n",
       "1  4  5  6"
      ]
     },
     "execution_count": 24,
     "metadata": {},
     "output_type": "execute_result"
    }
   ],
   "source": [
    "df\n"
   ]
  },
  {
   "cell_type": "markdown",
   "id": "de4518e0",
   "metadata": {},
   "source": [
    "##Creating arrays"
   ]
  },
  {
   "cell_type": "markdown",
   "id": "c43f8ebb",
   "metadata": {},
   "source": [
    "##Hello"
   ]
  },
  {
   "cell_type": "markdown",
   "id": "9ea89637",
   "metadata": {},
   "source": [
    "# Hello|"
   ]
  },
  {
   "cell_type": "markdown",
   "id": "9e293ad2",
   "metadata": {},
   "source": [
    "# Creating arrays"
   ]
  },
  {
   "cell_type": "code",
   "execution_count": 27,
   "id": "10414bd8",
   "metadata": {},
   "outputs": [
    {
     "data": {
      "text/plain": [
       "array([1, 2, 3])"
      ]
     },
     "execution_count": 27,
     "metadata": {},
     "output_type": "execute_result"
    }
   ],
   "source": [
    "sample_array=np.array([1,2,3])\n",
    "sample_array"
   ]
  },
  {
   "cell_type": "code",
   "execution_count": 28,
   "id": "c3b41bcd",
   "metadata": {},
   "outputs": [
    {
     "data": {
      "text/plain": [
       "dtype('int32')"
      ]
     },
     "execution_count": 28,
     "metadata": {},
     "output_type": "execute_result"
    }
   ],
   "source": [
    "sample_array.dtype\n"
   ]
  },
  {
   "cell_type": "code",
   "execution_count": 30,
   "id": "2d1b4179",
   "metadata": {},
   "outputs": [],
   "source": [
    "ones=np.ones((2,3))"
   ]
  },
  {
   "cell_type": "code",
   "execution_count": 31,
   "id": "6be6b870",
   "metadata": {},
   "outputs": [
    {
     "data": {
      "text/plain": [
       "array([[1., 1., 1.],\n",
       "       [1., 1., 1.]])"
      ]
     },
     "execution_count": 31,
     "metadata": {},
     "output_type": "execute_result"
    }
   ],
   "source": [
    "ones"
   ]
  },
  {
   "cell_type": "code",
   "execution_count": 33,
   "id": "bb1889f2",
   "metadata": {},
   "outputs": [
    {
     "data": {
      "text/plain": [
       "dtype('float64')"
      ]
     },
     "execution_count": 33,
     "metadata": {},
     "output_type": "execute_result"
    }
   ],
   "source": [
    "ones.dtype"
   ]
  },
  {
   "cell_type": "code",
   "execution_count": 34,
   "id": "73de9205",
   "metadata": {},
   "outputs": [],
   "source": [
    "zeros=np.zeros((2,3))"
   ]
  },
  {
   "cell_type": "code",
   "execution_count": 35,
   "id": "7bf13b7f",
   "metadata": {},
   "outputs": [
    {
     "data": {
      "text/plain": [
       "array([[0., 0., 0.],\n",
       "       [0., 0., 0.]])"
      ]
     },
     "execution_count": 35,
     "metadata": {},
     "output_type": "execute_result"
    }
   ],
   "source": [
    "zeros"
   ]
  },
  {
   "cell_type": "code",
   "execution_count": 37,
   "id": "549779f5",
   "metadata": {},
   "outputs": [],
   "source": [
    "range_array= np.arange(0, 10 , 2)"
   ]
  },
  {
   "cell_type": "code",
   "execution_count": 38,
   "id": "5806f7b1",
   "metadata": {},
   "outputs": [
    {
     "data": {
      "text/plain": [
       "array([0, 2, 4, 6, 8])"
      ]
     },
     "execution_count": 38,
     "metadata": {},
     "output_type": "execute_result"
    }
   ],
   "source": [
    "range_array"
   ]
  },
  {
   "cell_type": "code",
   "execution_count": 41,
   "id": "09b641ac",
   "metadata": {},
   "outputs": [
    {
     "data": {
      "text/plain": [
       "array([[5, 0, 2, 0, 6],\n",
       "       [0, 8, 0, 0, 9],\n",
       "       [9, 2, 5, 3, 5]])"
      ]
     },
     "execution_count": 41,
     "metadata": {},
     "output_type": "execute_result"
    }
   ],
   "source": [
    "random_array=np.random.randint(0,10,size=(3,5))\n",
    "random_array"
   ]
  },
  {
   "cell_type": "code",
   "execution_count": 43,
   "id": "8f8f9bca",
   "metadata": {},
   "outputs": [
    {
     "data": {
      "text/plain": [
       "15"
      ]
     },
     "execution_count": 43,
     "metadata": {},
     "output_type": "execute_result"
    }
   ],
   "source": [
    "random_array.size"
   ]
  },
  {
   "cell_type": "code",
   "execution_count": 45,
   "id": "18aa866a",
   "metadata": {},
   "outputs": [
    {
     "data": {
      "text/plain": [
       "(3, 5)"
      ]
     },
     "execution_count": 45,
     "metadata": {},
     "output_type": "execute_result"
    }
   ],
   "source": [
    "random_array.shape"
   ]
  },
  {
   "cell_type": "code",
   "execution_count": 61,
   "id": "03da1cf2",
   "metadata": {},
   "outputs": [
    {
     "ename": "ValueError",
     "evalue": "low >= high",
     "output_type": "error",
     "traceback": [
      "\u001b[1;31m---------------------------------------------------------------------------\u001b[0m",
      "\u001b[1;31mValueError\u001b[0m                                Traceback (most recent call last)",
      "Cell \u001b[1;32mIn[61], line 1\u001b[0m\n\u001b[1;32m----> 1\u001b[0m random_array3\u001b[38;5;241m=\u001b[39m \u001b[43mnp\u001b[49m\u001b[38;5;241;43m.\u001b[39;49m\u001b[43mrandom\u001b[49m\u001b[38;5;241;43m.\u001b[39;49m\u001b[43mrandint\u001b[49m\u001b[43m(\u001b[49m\u001b[38;5;241;43m5\u001b[39;49m\u001b[43m,\u001b[49m\u001b[38;5;241;43m3\u001b[39;49m\u001b[43m)\u001b[49m\n",
      "File \u001b[1;32mnumpy\\\\random\\\\mtrand.pyx:779\u001b[0m, in \u001b[0;36mnumpy.random.mtrand.RandomState.randint\u001b[1;34m()\u001b[0m\n",
      "File \u001b[1;32mnumpy\\\\random\\\\_bounded_integers.pyx:1425\u001b[0m, in \u001b[0;36mnumpy.random._bounded_integers._rand_int32\u001b[1;34m()\u001b[0m\n",
      "\u001b[1;31mValueError\u001b[0m: low >= high"
     ]
    }
   ],
   "source": [
    "random_array3= np.random.rand(5,3)"
   ]
  },
  {
   "cell_type": "code",
   "execution_count": 50,
   "id": "c7118b0a",
   "metadata": {},
   "outputs": [
    {
     "data": {
      "text/plain": [
       "array([[0.75073104, 0.39528767, 0.59213697],\n",
       "       [0.7425464 , 0.12688171, 0.68644659],\n",
       "       [0.9139342 , 0.14233411, 0.89638029],\n",
       "       [0.54716463, 0.59391981, 0.32185789],\n",
       "       [0.74560775, 0.26884219, 0.66490599]])"
      ]
     },
     "execution_count": 50,
     "metadata": {},
     "output_type": "execute_result"
    }
   ],
   "source": [
    "random_array3"
   ]
  },
  {
   "cell_type": "code",
   "execution_count": 56,
   "id": "96895062",
   "metadata": {},
   "outputs": [],
   "source": [
    "array5=np.random.randint(4,6,size=(2,5))"
   ]
  },
  {
   "cell_type": "code",
   "execution_count": 57,
   "id": "8e571644",
   "metadata": {},
   "outputs": [
    {
     "data": {
      "text/plain": [
       "array([[5, 5, 4, 5, 4],\n",
       "       [4, 5, 4, 4, 5]])"
      ]
     },
     "execution_count": 57,
     "metadata": {},
     "output_type": "execute_result"
    }
   ],
   "source": [
    "array5"
   ]
  },
  {
   "cell_type": "code",
   "execution_count": 62,
   "id": "5d0b9898",
   "metadata": {},
   "outputs": [],
   "source": [
    "a=np.random.seed()"
   ]
  },
  {
   "cell_type": "code",
   "execution_count": 63,
   "id": "110bddc5",
   "metadata": {},
   "outputs": [],
   "source": [
    "a"
   ]
  },
  {
   "cell_type": "markdown",
   "id": "9434153b",
   "metadata": {},
   "source": [
    "#asdfsasdf"
   ]
  },
  {
   "cell_type": "markdown",
   "id": "7e234624",
   "metadata": {},
   "source": [
    "#sdf"
   ]
  },
  {
   "cell_type": "markdown",
   "id": "8d1e54de",
   "metadata": {},
   "source": [
    "# asdfasfd"
   ]
  },
  {
   "cell_type": "code",
   "execution_count": 65,
   "id": "82083d03",
   "metadata": {},
   "outputs": [
    {
     "data": {
      "text/plain": [
       "array([4, 5])"
      ]
     },
     "execution_count": 65,
     "metadata": {},
     "output_type": "execute_result"
    }
   ],
   "source": [
    "np.unique(array5)"
   ]
  },
  {
   "cell_type": "code",
   "execution_count": 68,
   "id": "7884b530",
   "metadata": {},
   "outputs": [],
   "source": [
    "random_array=np.random.randint(4,6,size=(2,3))"
   ]
  },
  {
   "cell_type": "code",
   "execution_count": 67,
   "id": "3325c66f",
   "metadata": {},
   "outputs": [
    {
     "data": {
      "text/plain": [
       "array([[4, 4, 4, 4, 4],\n",
       "       [4, 4, 5, 5, 5]])"
      ]
     },
     "execution_count": 67,
     "metadata": {},
     "output_type": "execute_result"
    }
   ],
   "source": [
    "random_array"
   ]
  },
  {
   "cell_type": "code",
   "execution_count": 78,
   "id": "93f9f8fa",
   "metadata": {},
   "outputs": [],
   "source": [
    "a4= np.random.randint(10, size=(5,5,5,5))"
   ]
  },
  {
   "cell_type": "code",
   "execution_count": 79,
   "id": "3a9cc5bd",
   "metadata": {},
   "outputs": [
    {
     "data": {
      "text/plain": [
       "array([[[[7, 3, 6, 1, 6],\n",
       "         [0, 7, 3, 0, 2],\n",
       "         [4, 0, 4, 0, 1],\n",
       "         [0, 8, 0, 4, 7],\n",
       "         [9, 4, 7, 6, 4]],\n",
       "\n",
       "        [[8, 0, 8, 1, 8],\n",
       "         [9, 3, 9, 3, 9],\n",
       "         [3, 6, 9, 7, 9],\n",
       "         [2, 8, 1, 8, 0],\n",
       "         [5, 7, 5, 1, 8]],\n",
       "\n",
       "        [[5, 3, 4, 5, 5],\n",
       "         [3, 0, 3, 5, 4],\n",
       "         [7, 0, 1, 9, 0],\n",
       "         [6, 8, 4, 4, 6],\n",
       "         [2, 8, 4, 7, 4]],\n",
       "\n",
       "        [[0, 3, 2, 2, 6],\n",
       "         [7, 0, 7, 7, 5],\n",
       "         [9, 6, 6, 8, 5],\n",
       "         [5, 8, 6, 3, 2],\n",
       "         [6, 9, 7, 6, 0]],\n",
       "\n",
       "        [[8, 6, 9, 1, 1],\n",
       "         [9, 9, 7, 0, 7],\n",
       "         [3, 2, 7, 8, 5],\n",
       "         [6, 9, 4, 6, 2],\n",
       "         [5, 8, 2, 0, 6]]],\n",
       "\n",
       "\n",
       "       [[[5, 3, 3, 6, 9],\n",
       "         [3, 9, 7, 5, 5],\n",
       "         [4, 3, 1, 2, 1],\n",
       "         [5, 3, 2, 7, 0],\n",
       "         [1, 8, 8, 1, 0]],\n",
       "\n",
       "        [[6, 4, 2, 7, 0],\n",
       "         [0, 4, 4, 7, 7],\n",
       "         [8, 6, 4, 3, 9],\n",
       "         [3, 9, 5, 6, 6],\n",
       "         [3, 7, 4, 4, 4]],\n",
       "\n",
       "        [[2, 2, 6, 2, 6],\n",
       "         [2, 4, 7, 1, 4],\n",
       "         [8, 8, 1, 0, 2],\n",
       "         [1, 6, 4, 7, 5],\n",
       "         [3, 5, 8, 8, 7]],\n",
       "\n",
       "        [[8, 5, 9, 4, 8],\n",
       "         [0, 7, 2, 9, 5],\n",
       "         [9, 3, 3, 2, 8],\n",
       "         [9, 7, 2, 1, 3],\n",
       "         [1, 2, 6, 0, 8]],\n",
       "\n",
       "        [[9, 5, 7, 3, 6],\n",
       "         [2, 5, 0, 3, 1],\n",
       "         [0, 2, 7, 1, 3],\n",
       "         [6, 6, 3, 2, 7],\n",
       "         [8, 3, 1, 8, 1]]],\n",
       "\n",
       "\n",
       "       [[[0, 7, 9, 2, 0],\n",
       "         [5, 5, 2, 4, 6],\n",
       "         [3, 4, 4, 2, 1],\n",
       "         [0, 0, 5, 7, 2],\n",
       "         [2, 2, 1, 5, 9]],\n",
       "\n",
       "        [[7, 4, 7, 5, 2],\n",
       "         [4, 8, 3, 3, 6],\n",
       "         [7, 5, 1, 7, 9],\n",
       "         [4, 9, 1, 0, 8],\n",
       "         [4, 3, 1, 0, 5]],\n",
       "\n",
       "        [[5, 8, 9, 2, 4],\n",
       "         [1, 5, 3, 2, 6],\n",
       "         [4, 0, 6, 2, 8],\n",
       "         [8, 4, 6, 8, 7],\n",
       "         [5, 5, 1, 5, 8]],\n",
       "\n",
       "        [[5, 7, 0, 7, 2],\n",
       "         [7, 8, 9, 2, 5],\n",
       "         [8, 8, 0, 9, 1],\n",
       "         [8, 5, 9, 6, 9],\n",
       "         [6, 8, 1, 4, 5]],\n",
       "\n",
       "        [[6, 4, 4, 6, 0],\n",
       "         [9, 0, 6, 4, 2],\n",
       "         [1, 9, 4, 9, 3],\n",
       "         [7, 0, 6, 9, 7],\n",
       "         [3, 8, 1, 6, 5]]],\n",
       "\n",
       "\n",
       "       [[[5, 5, 9, 9, 7],\n",
       "         [5, 5, 3, 8, 5],\n",
       "         [5, 3, 8, 3, 6],\n",
       "         [2, 3, 0, 0, 0],\n",
       "         [3, 9, 9, 2, 0]],\n",
       "\n",
       "        [[3, 0, 5, 2, 7],\n",
       "         [6, 7, 8, 2, 3],\n",
       "         [2, 0, 5, 9, 7],\n",
       "         [6, 3, 8, 1, 3],\n",
       "         [0, 1, 9, 1, 2]],\n",
       "\n",
       "        [[7, 2, 2, 7, 4],\n",
       "         [6, 5, 8, 2, 7],\n",
       "         [1, 9, 5, 0, 6],\n",
       "         [8, 2, 6, 7, 1],\n",
       "         [8, 7, 3, 7, 1]],\n",
       "\n",
       "        [[3, 5, 7, 3, 4],\n",
       "         [9, 9, 7, 2, 1],\n",
       "         [5, 5, 7, 9, 0],\n",
       "         [2, 4, 7, 9, 1],\n",
       "         [7, 7, 5, 6, 0]],\n",
       "\n",
       "        [[4, 8, 0, 1, 8],\n",
       "         [9, 2, 7, 1, 7],\n",
       "         [0, 7, 3, 9, 4],\n",
       "         [5, 7, 9, 2, 8],\n",
       "         [2, 9, 2, 1, 4]]],\n",
       "\n",
       "\n",
       "       [[[6, 1, 2, 5, 8],\n",
       "         [2, 7, 1, 5, 1],\n",
       "         [6, 1, 0, 5, 0],\n",
       "         [0, 3, 8, 1, 2],\n",
       "         [6, 5, 9, 4, 6]],\n",
       "\n",
       "        [[2, 2, 0, 9, 8],\n",
       "         [4, 1, 7, 1, 9],\n",
       "         [2, 0, 4, 6, 7],\n",
       "         [9, 9, 0, 9, 2],\n",
       "         [2, 1, 3, 3, 5]],\n",
       "\n",
       "        [[8, 6, 8, 8, 1],\n",
       "         [7, 3, 1, 7, 5],\n",
       "         [4, 5, 0, 5, 4],\n",
       "         [2, 9, 0, 9, 3],\n",
       "         [1, 2, 6, 0, 4]],\n",
       "\n",
       "        [[5, 4, 5, 8, 5],\n",
       "         [5, 3, 9, 9, 2],\n",
       "         [1, 0, 4, 3, 5],\n",
       "         [5, 4, 0, 0, 1],\n",
       "         [9, 0, 3, 1, 4]],\n",
       "\n",
       "        [[2, 8, 5, 4, 8],\n",
       "         [5, 5, 7, 8, 0],\n",
       "         [9, 3, 4, 0, 6],\n",
       "         [4, 8, 8, 5, 1],\n",
       "         [8, 9, 3, 1, 4]]]])"
      ]
     },
     "execution_count": 79,
     "metadata": {},
     "output_type": "execute_result"
    }
   ],
   "source": [
    "a4"
   ]
  },
  {
   "cell_type": "code",
   "execution_count": 90,
   "id": "a124208f",
   "metadata": {},
   "outputs": [
    {
     "data": {
      "text/plain": [
       "array([[[[7, 3, 6, 1],\n",
       "         [0, 7, 3, 0]],\n",
       "\n",
       "        [[8, 0, 8, 1],\n",
       "         [9, 3, 9, 3]]],\n",
       "\n",
       "\n",
       "       [[[5, 3, 3, 6],\n",
       "         [3, 9, 7, 5]],\n",
       "\n",
       "        [[6, 4, 2, 7],\n",
       "         [0, 4, 4, 7]]],\n",
       "\n",
       "\n",
       "       [[[0, 7, 9, 2],\n",
       "         [5, 5, 2, 4]],\n",
       "\n",
       "        [[7, 4, 7, 5],\n",
       "         [4, 8, 3, 3]]],\n",
       "\n",
       "\n",
       "       [[[5, 5, 9, 9],\n",
       "         [5, 5, 3, 8]],\n",
       "\n",
       "        [[3, 0, 5, 2],\n",
       "         [6, 7, 8, 2]]]])"
      ]
     },
     "execution_count": 90,
     "metadata": {},
     "output_type": "execute_result"
    }
   ],
   "source": [
    "a4[:4,:2,:2,:4]"
   ]
  },
  {
   "cell_type": "code",
   "execution_count": null,
   "id": "a5f8cdc1",
   "metadata": {},
   "outputs": [],
   "source": []
  }
 ],
 "metadata": {
  "kernelspec": {
   "display_name": "Python 3 (ipykernel)",
   "language": "python",
   "name": "python3"
  },
  "language_info": {
   "codemirror_mode": {
    "name": "ipython",
    "version": 3
   },
   "file_extension": ".py",
   "mimetype": "text/x-python",
   "name": "python",
   "nbconvert_exporter": "python",
   "pygments_lexer": "ipython3",
   "version": "3.10.13"
  }
 },
 "nbformat": 4,
 "nbformat_minor": 5
}
